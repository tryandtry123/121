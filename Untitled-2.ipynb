{
 "cells": [
  {
   "cell_type": "code",
   "execution_count": 35,
   "metadata": {},
   "outputs": [
    {
     "name": "stdout",
     "output_type": "stream",
     "text": [
      "s\n",
      "k\n",
      "j\n",
      "d\n",
      "k\n",
      "k\n",
      "d\n"
     ]
    }
   ],
   "source": [
    "import pandas as pd\n",
    "import numpy as np\n",
    "x=[1, 1.1, 1.2, 1.3, 1.4, 2, 1.2, 1.3, 1.5, 0.9, 0.8, 1.1, 11];\n",
    "inlier = [];outlier = [];\n",
    "lenth = len(x);\n",
    "'''for i in x: \n",
    "  print(i);'''\n",
    "\n",
    "sp=\"askjdkkd\";\n",
    "q=1\n",
    "while q<(len(sp)):\n",
    "  print(sp[q]);\n",
    "  q+=1\n"
   ]
  },
  {
   "cell_type": "code",
   "execution_count": 23,
   "metadata": {},
   "outputs": [
    {
     "name": "stdout",
     "output_type": "stream",
     "text": [
      "leno\n",
      "18\n",
      "male\n"
     ]
    }
   ],
   "source": [
    "dic={'name':\"leno\",\"age\":18,\"gender\":\"male\"}\n",
    "for k in dic:\n",
    "  print(dic[k])"
   ]
  },
  {
   "cell_type": "code",
   "execution_count": 24,
   "metadata": {},
   "outputs": [
    {
     "name": "stdout",
     "output_type": "stream",
     "text": [
      "8\n"
     ]
    }
   ],
   "source": [
    "print(len(sp))"
   ]
  },
  {
   "cell_type": "code",
   "execution_count": 30,
   "metadata": {},
   "outputs": [
    {
     "name": "stdout",
     "output_type": "stream",
     "text": [
      "*****\n",
      "*****\n",
      "*****\n"
     ]
    }
   ],
   "source": [
    "for i in range(3):\n",
    "    for j in range(5):\n",
    "        print(\"*\",end=\"\");\n",
    "    print()\n",
    "\n",
    " "
   ]
  },
  {
   "cell_type": "code",
   "execution_count": 31,
   "metadata": {},
   "outputs": [
    {
     "name": "stdout",
     "output_type": "stream",
     "text": [
      "0 lsj\n",
      "1 a\n",
      "2 c\n"
     ]
    }
   ],
   "source": [
    "l = ['lsj', 'a', 'c']  # len(l)\n",
    "for i in range(len(l)):\n",
    "    print(i, l[i])"
   ]
  },
  {
   "cell_type": "code",
   "execution_count": 37,
   "metadata": {},
   "outputs": [
    {
     "name": "stdout",
     "output_type": "stream",
     "text": [
      "a   -0.068405\n",
      "b    0.283187\n",
      "c    0.668163\n",
      "d    0.963033\n",
      "e    0.478462\n",
      "dtype: float64\n"
     ]
    }
   ],
   "source": [
    "s= pd.Series(np.random.randn(5),index=[\"a\",\"b\",\"c\",\"d\",\"e\"])\n",
    "print(s)"
   ]
  },
  {
   "cell_type": "code",
   "execution_count": 38,
   "metadata": {},
   "outputs": [
    {
     "data": {
      "text/plain": [
       "Index(['a', 'b', 'c', 'd', 'e'], dtype='object')"
      ]
     },
     "execution_count": 38,
     "metadata": {},
     "output_type": "execute_result"
    }
   ],
   "source": [
    "s.index"
   ]
  },
  {
   "cell_type": "code",
   "execution_count": 43,
   "metadata": {},
   "outputs": [
    {
     "name": "stdout",
     "output_type": "stream",
     "text": [
      "   a\n",
      "0  1\n",
      "1  2\n",
      "2  3\n"
     ]
    }
   ],
   "source": [
    "left = pd.DataFrame({'a': [1, 2, 3]})\n",
    "right = pd.DataFrame({'c': [7, 8, 9], 'd': [10, 11, 12], 'a': [3, 4, 5]})\n",
    "print(left);"
   ]
  },
  {
   "cell_type": "code",
   "execution_count": 49,
   "metadata": {},
   "outputs": [
    {
     "name": "stdout",
     "output_type": "stream",
     "text": [
      "     Site   Age\n",
      "0  Google  10.0\n",
      "1  Runoob  12.0\n",
      "2    Wiki  13.0\n",
      "     Site   Age\n",
      "0  Google  10.0\n",
      "1  Runoob  12.0\n",
      "2    Wiki  13.0\n"
     ]
    }
   ],
   "source": [
    "import pandas as pd\n",
    "\n",
    "data = [['Google', 10], ['Runoob', 12], ['Wiki', 13]]\n",
    "\n",
    "# 创建DataFrame\n",
    "df = pd.DataFrame(data, columns=['Site', 'Age'])\n",
    "\n",
    "# 使用astype方法设置每列的数据类型\n",
    "df['Site'] = df['Site'].astype(str)\n",
    "df['Age'] = df['Age'].astype(float)\n",
    "\n",
    "print(df)\n",
    "\n",
    "\n",
    "df.transpose\n",
    "print(df);"
   ]
  },
  {
   "cell_type": "code",
   "execution_count": 50,
   "metadata": {},
   "outputs": [
    {
     "data": {
      "text/plain": [
       "0     True\n",
       "1    False\n",
       "2     True\n",
       "dtype: bool"
      ]
     },
     "execution_count": 50,
     "metadata": {},
     "output_type": "execute_result"
    }
   ],
   "source": [
    "from pandas import Series\n",
    "import pandas as pd\n",
    "from numpy import NaN\n",
    "series_obj = Series([None, 4, NaN])\n",
    "pd.isnull(series_obj)"
   ]
  },
  {
   "cell_type": "code",
   "execution_count": 52,
   "metadata": {},
   "outputs": [
    {
     "data": {
      "text/plain": [
       "4   -3.0\n",
       "5    2.0\n",
       "0    4.0\n",
       "3    5.0\n",
       "2    6.0\n",
       "1    NaN\n",
       "dtype: float64"
      ]
     },
     "execution_count": 52,
     "metadata": {},
     "output_type": "execute_result"
    }
   ],
   "source": [
    "import numpy as np\n",
    "import pandas as pd\n",
    "ser_obj = pd.Series([4, np.nan, 6, 5, -3, 2])\n",
    "ser_obj.sort_values()"
   ]
  },
  {
   "cell_type": "code",
   "execution_count": null,
   "metadata": {},
   "outputs": [],
   "source": [
    "data"
   ]
  }
 ],
 "metadata": {
  "kernelspec": {
   "display_name": "Python 3",
   "language": "python",
   "name": "python3"
  },
  "language_info": {
   "codemirror_mode": {
    "name": "ipython",
    "version": 3
   },
   "file_extension": ".py",
   "mimetype": "text/x-python",
   "name": "python",
   "nbconvert_exporter": "python",
   "pygments_lexer": "ipython3",
   "version": "3.11.4"
  },
  "orig_nbformat": 4
 },
 "nbformat": 4,
 "nbformat_minor": 2
}
